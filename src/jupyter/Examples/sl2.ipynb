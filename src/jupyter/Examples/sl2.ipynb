{
 "cells": [
  {
   "cell_type": "markdown",
   "metadata": {},
   "source": [
    "$s\\ell_2 $\n",
    "の [universal enveloping algebra](https://en.wikipedia.org/wiki/Universal_enveloping_algebra)\n",
    "は $h,e,f$ で生成される非可換代数です.\n",
    "$$ he=eh + 2e, hf=fh-2f, ef=fe+h $$\n",
    "および結合法則, 分配法則が計算規則となります。\n",
    "\n",
    "$f,e,h$ のべきが順番に来るように変形した形の式を正規形といいます.\n",
    "asir では次のように正規形が計算できますよ。"
   ]
  },
  {
   "cell_type": "code",
   "execution_count": 3,
   "metadata": {},
   "outputs": [
    {
     "name": "stdout",
     "output_type": "stream",
     "text": [
      "quote(f*f*f*f*f*e+5*f*f*f*f*h+-20*f*f*f*f)\n",
      "\n",
      "\n"
     ]
    }
   ],
   "source": [
    "load(\"noro_rewrite.rr\");\n",
    "Rsl=[[`h*e,`e*h+2*e],[`h*f,`f*h-2*f],[`e*f,`f*e+h]];\n",
    "print_input_form(qt_rewrite(`e*f^5,Rsl,2));"
   ]
  },
  {
   "cell_type": "markdown",
   "metadata": {
    "collapsed": true
   },
   "source": [
    "$h,e,f$ が満たす関係式は行列\n",
    "$$ H=\\left(\\begin{array}{cc}\n",
    "     1 & 0 \\\\\n",
    "     0 & -1 \\\\ \n",
    "     \\end{array} \\right),\n",
    "   E=\\left(\\begin{array}{cc}\n",
    "     0 & 1 \\\\\n",
    "     0 & 0 \\\\ \n",
    "     \\end{array} \\right),\n",
    "   F=\\left(\\begin{array}{cc}\n",
    "     0 & 0 \\\\\n",
    "     1 & 0 \\\\  \n",
    "     \\end{array} \\right)\n",
    "$$\n",
    "の満たす関係式と同じであるが,  $E^2=0$ などの関係式は  **忘れた ** 関係式となっている."
   ]
  },
  {
   "cell_type": "code",
   "execution_count": 2,
   "metadata": {},
   "outputs": [
    {
     "name": "stdout",
     "output_type": "stream",
     "text": [
      "3\n",
      "\n",
      "\n"
     ]
    }
   ],
   "source": []
  },
  {
   "cell_type": "code",
   "execution_count": null,
   "metadata": {},
   "outputs": [],
   "source": []
  }
 ],
 "metadata": {
  "kernelspec": {
   "display_name": "Asir",
   "language": "asir",
   "name": "asir"
  },
  "language_info": {
   "file_extension": ".rr",
   "help_links": [
    {
     "text": "Risa/Asir",
     "url": "http://www.openxm.org"
    },
    {
     "text": "Asir Kernel",
     "url": "http://www.openxm.org"
    },
    {
     "text": "MetaKernel Magics",
     "url": "https://github.com/calysto/metakernel/blob/master/metakernel/magics/README.md"
    }
   ],
   "mimetype": "text/x-octave",
   "name": "c",
   "version": "20190523"
  }
 },
 "nbformat": 4,
 "nbformat_minor": 2
}
