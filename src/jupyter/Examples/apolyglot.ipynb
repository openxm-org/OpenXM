{
 "cells": [
  {
   "cell_type": "code",
   "execution_count": 1,
   "metadata": {
    "collapsed": false
   },
   "outputs": [
    {
     "name": "stdout",
     "output_type": "stream",
     "text": [
      "5050\n",
      "\n",
      "\n"
     ]
    }
   ],
   "source": [
    "def mysum(N) {\n",
    "    S=0;\n",
    "    for (I=1; I<=N; I++) {\n",
    "        S=S+I;\n",
    "    }\n",
    "    return(S);\n",
    "}\n",
    "mysum(100);"
   ]
  },
  {
   "cell_type": "markdown",
   "metadata": {},
   "source": [
    "$f(x)=x^2-a$ の時に $ x_{n+1} = x_n - f(x_n)/f'(x_n)$ を計算すると\n",
    "$$ x_{n+1} = x_n - \\frac{x_n^2-a}{2x_n} = \\frac{1}{2}(x_n + \\frac{a}{x_n})$$"
   ]
  },
  {
   "cell_type": "code",
   "execution_count": 2,
   "metadata": {
    "collapsed": false
   },
   "outputs": [
    {
     "name": "stdout",
     "output_type": "stream",
     "text": [
      "1.41421356237309\n",
      "\n",
      "\n"
     ]
    }
   ],
   "source": [
    "def mysqrt(A) {\n",
    "   X=number_eval(A);\n",
    "  for (I=0; I<5; I++) {\n",
    "    Y = (X+A/X)*0.5;\n",
    "    X = Y;\n",
    "  }\n",
    "  return(Y);\n",
    "}\n",
    "mysqrt(2);"
   ]
  },
  {
   "cell_type": "code",
   "execution_count": 4,
   "metadata": {
    "collapsed": false
   },
   "outputs": [
    {
     "name": "stdout",
     "output_type": "stream",
     "text": [
      "0\n",
      "\n",
      "\n"
     ]
    }
   ],
   "source": [
    "import(\"glib3.rr\");\n",
    "Glib_math_coordinate=1;\n",
    "glib_window(0,0,10,10);\n",
    "glib_line(0,0,10,5 | color=0xff0000);\n",
    "glib_flush();"
   ]
  },
  {
   "cell_type": "code",
   "execution_count": 10,
   "metadata": {
    "collapsed": false
   },
   "outputs": [
    {
     "name": "stdout",
     "output_type": "stream",
     "text": [
      "1\n",
      "\n",
      "\n"
     ]
    }
   ],
   "source": [
    "def mytent(X) {\n",
    "  if (X<1/2) return(2*X);\n",
    "  else return(2-2*X);\n",
    "}\n",
    "def tt(X) {return mytent(mytent(X));}\n",
    "plot(tt(x)); /* うまくいかない. 原因は? */"
   ]
  },
  {
   "cell_type": "code",
   "execution_count": null,
   "metadata": {
    "collapsed": true
   },
   "outputs": [],
   "source": []
  }
 ],
 "metadata": {
  "kernelspec": {
   "display_name": "Asir",
   "language": "asir",
   "name": "asir"
  },
  "language_info": {
   "file_extension": ".rr",
   "help_links": [
    {
     "text": "Risa/Asir",
     "url": "http://www.openxm.org"
    },
    {
     "text": "Asir Kernel",
     "url": "http://www.openxm.org"
    },
    {
     "text": "MetaKernel Magics",
     "url": "https://metakernel.readthedocs.io/en/latest/source/README.html"
    }
   ],
   "mimetype": "text/x-octave",
   "name": "c",
   "version": "20190507"
  }
 },
 "nbformat": 4,
 "nbformat_minor": 2
}
